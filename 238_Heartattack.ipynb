{
  "nbformat": 4,
  "nbformat_minor": 0,
  "metadata": {
    "colab": {
      "provenance": [],
      "authorship_tag": "ABX9TyOP6Ye1bJw3UN1KObZHED2J",
      "include_colab_link": true
    },
    "kernelspec": {
      "name": "python3",
      "display_name": "Python 3"
    },
    "language_info": {
      "name": "python"
    }
  },
  "cells": [
    {
      "cell_type": "markdown",
      "metadata": {
        "id": "view-in-github",
        "colab_type": "text"
      },
      "source": [
        "<a href=\"https://colab.research.google.com/github/bits-aci/bits-ml-assignment1/blob/dev/238_Heartattack.ipynb\" target=\"_parent\"><img src=\"https://colab.research.google.com/assets/colab-badge.svg\" alt=\"Open In Colab\"/></a>"
      ]
    },
    {
      "cell_type": "markdown",
      "source": [
        "<b>Group No:</b> 238 <br>\n",
        "<b>Assignment 1 - PS-6</b><br>\n",
        "<b>Assignment dataset:</b> https://www.kaggle.com/datasets/nareshbhat/health-care-data-set-on-heart-attack-possibility\n",
        "\n",
        "<b>Group members list:</b><br>\n",
        "\n",
        "*   Sivabalan S (2022AC05637)\n",
        "*   Rupp Santos (2022ac05570)\n",
        "*   Srivatsan (BITS ID)\n",
        "\n",
        "\n",
        "\n",
        "\n",
        "\n",
        "\n"
      ],
      "metadata": {
        "id": "rn1_l4wJ51yk"
      }
    },
    {
      "cell_type": "code",
      "execution_count": null,
      "metadata": {
        "id": "cszNs35l5YUy"
      },
      "outputs": [],
      "source": []
    }
  ]
}