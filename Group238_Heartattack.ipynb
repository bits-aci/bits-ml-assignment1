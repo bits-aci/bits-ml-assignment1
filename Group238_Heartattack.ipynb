{
  "cells": [
    {
      "cell_type": "markdown",
      "metadata": {
        "id": "view-in-github",
        "colab_type": "text"
      },
      "source": [
        "<a href=\"https://colab.research.google.com/github/bits-aci/bits-ml-assignment1/blob/dev/Group238_Heartattack.ipynb\" target=\"_parent\"><img src=\"https://colab.research.google.com/assets/colab-badge.svg\" alt=\"Open In Colab\"/></a>"
      ]
    },
    {
      "cell_type": "markdown",
      "metadata": {
        "id": "rn1_l4wJ51yk"
      },
      "source": [
        "<b>Group No:</b> 238 <br>\n",
        "<b>Assignment 1 - PS-6</b><br>\n",
        "<b>Assignment dataset:</b> https://www.kaggle.com/datasets/nareshbhat/health-care-data-set-on-heart-attack-possibility\n",
        "\n",
        "<b>Group members list: All provided EQUAL contribution</b><br>\n",
        "\n",
        "*   Sivabalan S (2022AC05637)\n",
        "*   Rupp Santos (2022ac05570)\n",
        "*   Srivatsan (2022AC05629)\n",
        "\n",
        "\n",
        "\n",
        "\n",
        "\n",
        "\n"
      ]
    },
    {
      "cell_type": "markdown",
      "source": [
        "<b>Download of data set</b>\n",
        "\n",
        "<b> We are using google colab import option. Please make necessary changes to upload data from local drive</b>"
      ],
      "metadata": {
        "id": "4ulEcnFkh3VL"
      }
    },
    {
      "cell_type": "code",
      "execution_count": 300,
      "metadata": {
        "colab": {
          "base_uri": "https://localhost:8080/",
          "height": 71
        },
        "id": "yRH9hfoWaLNQ",
        "outputId": "5af2a2de-91f8-48dc-c971-0beebd237024"
      },
      "outputs": [
        {
          "output_type": "display_data",
          "data": {
            "text/plain": [
              "<IPython.core.display.HTML object>"
            ],
            "text/html": [
              "\n",
              "     <input type=\"file\" id=\"files-aa6c5675-e465-48ea-a55e-60bbca1bac6c\" name=\"files[]\" multiple disabled\n",
              "        style=\"border:none\" />\n",
              "     <output id=\"result-aa6c5675-e465-48ea-a55e-60bbca1bac6c\">\n",
              "      Upload widget is only available when the cell has been executed in the\n",
              "      current browser session. Please rerun this cell to enable.\n",
              "      </output>\n",
              "      <script>// Copyright 2017 Google LLC\n",
              "//\n",
              "// Licensed under the Apache License, Version 2.0 (the \"License\");\n",
              "// you may not use this file except in compliance with the License.\n",
              "// You may obtain a copy of the License at\n",
              "//\n",
              "//      http://www.apache.org/licenses/LICENSE-2.0\n",
              "//\n",
              "// Unless required by applicable law or agreed to in writing, software\n",
              "// distributed under the License is distributed on an \"AS IS\" BASIS,\n",
              "// WITHOUT WARRANTIES OR CONDITIONS OF ANY KIND, either express or implied.\n",
              "// See the License for the specific language governing permissions and\n",
              "// limitations under the License.\n",
              "\n",
              "/**\n",
              " * @fileoverview Helpers for google.colab Python module.\n",
              " */\n",
              "(function(scope) {\n",
              "function span(text, styleAttributes = {}) {\n",
              "  const element = document.createElement('span');\n",
              "  element.textContent = text;\n",
              "  for (const key of Object.keys(styleAttributes)) {\n",
              "    element.style[key] = styleAttributes[key];\n",
              "  }\n",
              "  return element;\n",
              "}\n",
              "\n",
              "// Max number of bytes which will be uploaded at a time.\n",
              "const MAX_PAYLOAD_SIZE = 100 * 1024;\n",
              "\n",
              "function _uploadFiles(inputId, outputId) {\n",
              "  const steps = uploadFilesStep(inputId, outputId);\n",
              "  const outputElement = document.getElementById(outputId);\n",
              "  // Cache steps on the outputElement to make it available for the next call\n",
              "  // to uploadFilesContinue from Python.\n",
              "  outputElement.steps = steps;\n",
              "\n",
              "  return _uploadFilesContinue(outputId);\n",
              "}\n",
              "\n",
              "// This is roughly an async generator (not supported in the browser yet),\n",
              "// where there are multiple asynchronous steps and the Python side is going\n",
              "// to poll for completion of each step.\n",
              "// This uses a Promise to block the python side on completion of each step,\n",
              "// then passes the result of the previous step as the input to the next step.\n",
              "function _uploadFilesContinue(outputId) {\n",
              "  const outputElement = document.getElementById(outputId);\n",
              "  const steps = outputElement.steps;\n",
              "\n",
              "  const next = steps.next(outputElement.lastPromiseValue);\n",
              "  return Promise.resolve(next.value.promise).then((value) => {\n",
              "    // Cache the last promise value to make it available to the next\n",
              "    // step of the generator.\n",
              "    outputElement.lastPromiseValue = value;\n",
              "    return next.value.response;\n",
              "  });\n",
              "}\n",
              "\n",
              "/**\n",
              " * Generator function which is called between each async step of the upload\n",
              " * process.\n",
              " * @param {string} inputId Element ID of the input file picker element.\n",
              " * @param {string} outputId Element ID of the output display.\n",
              " * @return {!Iterable<!Object>} Iterable of next steps.\n",
              " */\n",
              "function* uploadFilesStep(inputId, outputId) {\n",
              "  const inputElement = document.getElementById(inputId);\n",
              "  inputElement.disabled = false;\n",
              "\n",
              "  const outputElement = document.getElementById(outputId);\n",
              "  outputElement.innerHTML = '';\n",
              "\n",
              "  const pickedPromise = new Promise((resolve) => {\n",
              "    inputElement.addEventListener('change', (e) => {\n",
              "      resolve(e.target.files);\n",
              "    });\n",
              "  });\n",
              "\n",
              "  const cancel = document.createElement('button');\n",
              "  inputElement.parentElement.appendChild(cancel);\n",
              "  cancel.textContent = 'Cancel upload';\n",
              "  const cancelPromise = new Promise((resolve) => {\n",
              "    cancel.onclick = () => {\n",
              "      resolve(null);\n",
              "    };\n",
              "  });\n",
              "\n",
              "  // Wait for the user to pick the files.\n",
              "  const files = yield {\n",
              "    promise: Promise.race([pickedPromise, cancelPromise]),\n",
              "    response: {\n",
              "      action: 'starting',\n",
              "    }\n",
              "  };\n",
              "\n",
              "  cancel.remove();\n",
              "\n",
              "  // Disable the input element since further picks are not allowed.\n",
              "  inputElement.disabled = true;\n",
              "\n",
              "  if (!files) {\n",
              "    return {\n",
              "      response: {\n",
              "        action: 'complete',\n",
              "      }\n",
              "    };\n",
              "  }\n",
              "\n",
              "  for (const file of files) {\n",
              "    const li = document.createElement('li');\n",
              "    li.append(span(file.name, {fontWeight: 'bold'}));\n",
              "    li.append(span(\n",
              "        `(${file.type || 'n/a'}) - ${file.size} bytes, ` +\n",
              "        `last modified: ${\n",
              "            file.lastModifiedDate ? file.lastModifiedDate.toLocaleDateString() :\n",
              "                                    'n/a'} - `));\n",
              "    const percent = span('0% done');\n",
              "    li.appendChild(percent);\n",
              "\n",
              "    outputElement.appendChild(li);\n",
              "\n",
              "    const fileDataPromise = new Promise((resolve) => {\n",
              "      const reader = new FileReader();\n",
              "      reader.onload = (e) => {\n",
              "        resolve(e.target.result);\n",
              "      };\n",
              "      reader.readAsArrayBuffer(file);\n",
              "    });\n",
              "    // Wait for the data to be ready.\n",
              "    let fileData = yield {\n",
              "      promise: fileDataPromise,\n",
              "      response: {\n",
              "        action: 'continue',\n",
              "      }\n",
              "    };\n",
              "\n",
              "    // Use a chunked sending to avoid message size limits. See b/62115660.\n",
              "    let position = 0;\n",
              "    do {\n",
              "      const length = Math.min(fileData.byteLength - position, MAX_PAYLOAD_SIZE);\n",
              "      const chunk = new Uint8Array(fileData, position, length);\n",
              "      position += length;\n",
              "\n",
              "      const base64 = btoa(String.fromCharCode.apply(null, chunk));\n",
              "      yield {\n",
              "        response: {\n",
              "          action: 'append',\n",
              "          file: file.name,\n",
              "          data: base64,\n",
              "        },\n",
              "      };\n",
              "\n",
              "      let percentDone = fileData.byteLength === 0 ?\n",
              "          100 :\n",
              "          Math.round((position / fileData.byteLength) * 100);\n",
              "      percent.textContent = `${percentDone}% done`;\n",
              "\n",
              "    } while (position < fileData.byteLength);\n",
              "  }\n",
              "\n",
              "  // All done.\n",
              "  yield {\n",
              "    response: {\n",
              "      action: 'complete',\n",
              "    }\n",
              "  };\n",
              "}\n",
              "\n",
              "scope.google = scope.google || {};\n",
              "scope.google.colab = scope.google.colab || {};\n",
              "scope.google.colab._files = {\n",
              "  _uploadFiles,\n",
              "  _uploadFilesContinue,\n",
              "};\n",
              "})(self);\n",
              "</script> "
            ]
          },
          "metadata": {}
        },
        {
          "output_type": "stream",
          "name": "stdout",
          "text": [
            "Saving heart.csv to heart (2).csv\n"
          ]
        }
      ],
      "source": [
        "# We are using Google colab import option\n",
        "from google.colab import files\n",
        "uploaded = files.upload()"
      ]
    },
    {
      "cell_type": "markdown",
      "source": [
        "<b>Import of libraries</b>\n"
      ],
      "metadata": {
        "id": "6dsocUxCchS5"
      }
    },
    {
      "cell_type": "code",
      "execution_count": 301,
      "metadata": {
        "id": "HTJCEwmyaBSu"
      },
      "outputs": [],
      "source": [
        "# Importing all necessary libraries\n",
        "import numpy as nm\n",
        "import pandas as pd\n",
        "import matplotlib.pyplot as plt\n",
        "import seaborn as sns\n",
        "\n",
        "# Importing sklearn libraries required for Training-Test data sets preparation, obtaining confusion matrix values, and model tuning\n",
        "import sklearn\n",
        "from sklearn.linear_model import LogisticRegression\n",
        "from sklearn.model_selection import train_test_split\n",
        "from sklearn.metrics import confusion_matrix, ConfusionMatrixDisplay\n",
        "from sklearn.model_selection import GridSearchCV\n",
        "\n",
        "# Importing necessary library package for KFold cross validation\n",
        "from sklearn.model_selection import KFold\n",
        "\n",
        "# Importing tabulate\n",
        "# For displaying performance metrics in tabular format\n",
        "from tabulate import tabulate"
      ]
    },
    {
      "cell_type": "markdown",
      "source": [
        "**Reading the data from CSV file**\n",
        "\n",
        "<b> Please make necessary changes to upload data from local drive</b>"
      ],
      "metadata": {
        "id": "Gus_Oxmrc1PH"
      }
    },
    {
      "cell_type": "code",
      "execution_count": 302,
      "metadata": {
        "id": "b83ZJ0mPawvd"
      },
      "outputs": [],
      "source": [
        "data_set = pd.read_csv(\"heart.csv\")"
      ]
    },
    {
      "cell_type": "markdown",
      "source": [
        "### <b>Section - 1 : DATA VISUALIZATION AND EXPLORATION</b>"
      ],
      "metadata": {
        "id": "XzWEjkaDvJxv"
      }
    },
    {
      "cell_type": "markdown",
      "source": [
        "<b>1. 1. Sanity check</b>"
      ],
      "metadata": {
        "id": "lmDdGGOGgTlB"
      }
    },
    {
      "cell_type": "markdown",
      "source": [
        "1. Displaying few rows from the data set\n",
        "2. Considering the values of Age, Cholestrol levels and heart rate at rest, the target value of 1 seems reasonable"
      ],
      "metadata": {
        "id": "t7Xy7ioD9nR_"
      }
    },
    {
      "cell_type": "code",
      "source": [
        "data_set.head(5)"
      ],
      "metadata": {
        "colab": {
          "base_uri": "https://localhost:8080/",
          "height": 206
        },
        "id": "R88K6hKZs6AP",
        "outputId": "0a5c1b9e-fea3-40d7-bb4a-710043ca9465"
      },
      "execution_count": 303,
      "outputs": [
        {
          "output_type": "execute_result",
          "data": {
            "text/plain": [
              "   age  sex  cp  trestbps  chol  fbs  restecg  thalach  exang  oldpeak  slope  \\\n",
              "0   63    1   3       145   233    1        0      150      0      2.3      0   \n",
              "1   37    1   2       130   250    0        1      187      0      3.5      0   \n",
              "2   41    0   1       130   204    0        0      172      0      1.4      2   \n",
              "3   56    1   1       120   236    0        1      178      0      0.8      2   \n",
              "4   57    0   0       120   354    0        1      163      1      0.6      2   \n",
              "\n",
              "   ca  thal  target  \n",
              "0   0     1       1  \n",
              "1   0     2       1  \n",
              "2   0     2       1  \n",
              "3   0     2       1  \n",
              "4   0     2       1  "
            ],
            "text/html": [
              "\n",
              "  <div id=\"df-d1f98a3e-3f5d-4c1a-98f1-cdf649f74a46\">\n",
              "    <div class=\"colab-df-container\">\n",
              "      <div>\n",
              "<style scoped>\n",
              "    .dataframe tbody tr th:only-of-type {\n",
              "        vertical-align: middle;\n",
              "    }\n",
              "\n",
              "    .dataframe tbody tr th {\n",
              "        vertical-align: top;\n",
              "    }\n",
              "\n",
              "    .dataframe thead th {\n",
              "        text-align: right;\n",
              "    }\n",
              "</style>\n",
              "<table border=\"1\" class=\"dataframe\">\n",
              "  <thead>\n",
              "    <tr style=\"text-align: right;\">\n",
              "      <th></th>\n",
              "      <th>age</th>\n",
              "      <th>sex</th>\n",
              "      <th>cp</th>\n",
              "      <th>trestbps</th>\n",
              "      <th>chol</th>\n",
              "      <th>fbs</th>\n",
              "      <th>restecg</th>\n",
              "      <th>thalach</th>\n",
              "      <th>exang</th>\n",
              "      <th>oldpeak</th>\n",
              "      <th>slope</th>\n",
              "      <th>ca</th>\n",
              "      <th>thal</th>\n",
              "      <th>target</th>\n",
              "    </tr>\n",
              "  </thead>\n",
              "  <tbody>\n",
              "    <tr>\n",
              "      <th>0</th>\n",
              "      <td>63</td>\n",
              "      <td>1</td>\n",
              "      <td>3</td>\n",
              "      <td>145</td>\n",
              "      <td>233</td>\n",
              "      <td>1</td>\n",
              "      <td>0</td>\n",
              "      <td>150</td>\n",
              "      <td>0</td>\n",
              "      <td>2.3</td>\n",
              "      <td>0</td>\n",
              "      <td>0</td>\n",
              "      <td>1</td>\n",
              "      <td>1</td>\n",
              "    </tr>\n",
              "    <tr>\n",
              "      <th>1</th>\n",
              "      <td>37</td>\n",
              "      <td>1</td>\n",
              "      <td>2</td>\n",
              "      <td>130</td>\n",
              "      <td>250</td>\n",
              "      <td>0</td>\n",
              "      <td>1</td>\n",
              "      <td>187</td>\n",
              "      <td>0</td>\n",
              "      <td>3.5</td>\n",
              "      <td>0</td>\n",
              "      <td>0</td>\n",
              "      <td>2</td>\n",
              "      <td>1</td>\n",
              "    </tr>\n",
              "    <tr>\n",
              "      <th>2</th>\n",
              "      <td>41</td>\n",
              "      <td>0</td>\n",
              "      <td>1</td>\n",
              "      <td>130</td>\n",
              "      <td>204</td>\n",
              "      <td>0</td>\n",
              "      <td>0</td>\n",
              "      <td>172</td>\n",
              "      <td>0</td>\n",
              "      <td>1.4</td>\n",
              "      <td>2</td>\n",
              "      <td>0</td>\n",
              "      <td>2</td>\n",
              "      <td>1</td>\n",
              "    </tr>\n",
              "    <tr>\n",
              "      <th>3</th>\n",
              "      <td>56</td>\n",
              "      <td>1</td>\n",
              "      <td>1</td>\n",
              "      <td>120</td>\n",
              "      <td>236</td>\n",
              "      <td>0</td>\n",
              "      <td>1</td>\n",
              "      <td>178</td>\n",
              "      <td>0</td>\n",
              "      <td>0.8</td>\n",
              "      <td>2</td>\n",
              "      <td>0</td>\n",
              "      <td>2</td>\n",
              "      <td>1</td>\n",
              "    </tr>\n",
              "    <tr>\n",
              "      <th>4</th>\n",
              "      <td>57</td>\n",
              "      <td>0</td>\n",
              "      <td>0</td>\n",
              "      <td>120</td>\n",
              "      <td>354</td>\n",
              "      <td>0</td>\n",
              "      <td>1</td>\n",
              "      <td>163</td>\n",
              "      <td>1</td>\n",
              "      <td>0.6</td>\n",
              "      <td>2</td>\n",
              "      <td>0</td>\n",
              "      <td>2</td>\n",
              "      <td>1</td>\n",
              "    </tr>\n",
              "  </tbody>\n",
              "</table>\n",
              "</div>\n",
              "      <button class=\"colab-df-convert\" onclick=\"convertToInteractive('df-d1f98a3e-3f5d-4c1a-98f1-cdf649f74a46')\"\n",
              "              title=\"Convert this dataframe to an interactive table.\"\n",
              "              style=\"display:none;\">\n",
              "        \n",
              "  <svg xmlns=\"http://www.w3.org/2000/svg\" height=\"24px\"viewBox=\"0 0 24 24\"\n",
              "       width=\"24px\">\n",
              "    <path d=\"M0 0h24v24H0V0z\" fill=\"none\"/>\n",
              "    <path d=\"M18.56 5.44l.94 2.06.94-2.06 2.06-.94-2.06-.94-.94-2.06-.94 2.06-2.06.94zm-11 1L8.5 8.5l.94-2.06 2.06-.94-2.06-.94L8.5 2.5l-.94 2.06-2.06.94zm10 10l.94 2.06.94-2.06 2.06-.94-2.06-.94-.94-2.06-.94 2.06-2.06.94z\"/><path d=\"M17.41 7.96l-1.37-1.37c-.4-.4-.92-.59-1.43-.59-.52 0-1.04.2-1.43.59L10.3 9.45l-7.72 7.72c-.78.78-.78 2.05 0 2.83L4 21.41c.39.39.9.59 1.41.59.51 0 1.02-.2 1.41-.59l7.78-7.78 2.81-2.81c.8-.78.8-2.07 0-2.86zM5.41 20L4 18.59l7.72-7.72 1.47 1.35L5.41 20z\"/>\n",
              "  </svg>\n",
              "      </button>\n",
              "      \n",
              "  <style>\n",
              "    .colab-df-container {\n",
              "      display:flex;\n",
              "      flex-wrap:wrap;\n",
              "      gap: 12px;\n",
              "    }\n",
              "\n",
              "    .colab-df-convert {\n",
              "      background-color: #E8F0FE;\n",
              "      border: none;\n",
              "      border-radius: 50%;\n",
              "      cursor: pointer;\n",
              "      display: none;\n",
              "      fill: #1967D2;\n",
              "      height: 32px;\n",
              "      padding: 0 0 0 0;\n",
              "      width: 32px;\n",
              "    }\n",
              "\n",
              "    .colab-df-convert:hover {\n",
              "      background-color: #E2EBFA;\n",
              "      box-shadow: 0px 1px 2px rgba(60, 64, 67, 0.3), 0px 1px 3px 1px rgba(60, 64, 67, 0.15);\n",
              "      fill: #174EA6;\n",
              "    }\n",
              "\n",
              "    [theme=dark] .colab-df-convert {\n",
              "      background-color: #3B4455;\n",
              "      fill: #D2E3FC;\n",
              "    }\n",
              "\n",
              "    [theme=dark] .colab-df-convert:hover {\n",
              "      background-color: #434B5C;\n",
              "      box-shadow: 0px 1px 3px 1px rgba(0, 0, 0, 0.15);\n",
              "      filter: drop-shadow(0px 1px 2px rgba(0, 0, 0, 0.3));\n",
              "      fill: #FFFFFF;\n",
              "    }\n",
              "  </style>\n",
              "\n",
              "      <script>\n",
              "        const buttonEl =\n",
              "          document.querySelector('#df-d1f98a3e-3f5d-4c1a-98f1-cdf649f74a46 button.colab-df-convert');\n",
              "        buttonEl.style.display =\n",
              "          google.colab.kernel.accessAllowed ? 'block' : 'none';\n",
              "\n",
              "        async function convertToInteractive(key) {\n",
              "          const element = document.querySelector('#df-d1f98a3e-3f5d-4c1a-98f1-cdf649f74a46');\n",
              "          const dataTable =\n",
              "            await google.colab.kernel.invokeFunction('convertToInteractive',\n",
              "                                                     [key], {});\n",
              "          if (!dataTable) return;\n",
              "\n",
              "          const docLinkHtml = 'Like what you see? Visit the ' +\n",
              "            '<a target=\"_blank\" href=https://colab.research.google.com/notebooks/data_table.ipynb>data table notebook</a>'\n",
              "            + ' to learn more about interactive tables.';\n",
              "          element.innerHTML = '';\n",
              "          dataTable['output_type'] = 'display_data';\n",
              "          await google.colab.output.renderOutput(dataTable, element);\n",
              "          const docLink = document.createElement('div');\n",
              "          docLink.innerHTML = docLinkHtml;\n",
              "          element.appendChild(docLink);\n",
              "        }\n",
              "      </script>\n",
              "    </div>\n",
              "  </div>\n",
              "  "
            ]
          },
          "metadata": {},
          "execution_count": 303
        }
      ]
    },
    {
      "cell_type": "code",
      "source": [
        "# This command for displaying all the statistical data\n",
        "print(data_set.dtypes)\n",
        "print(data_set.describe())"
      ],
      "metadata": {
        "colab": {
          "base_uri": "https://localhost:8080/"
        },
        "id": "olTVBMjvWGf5",
        "outputId": "49c168cb-d33d-44fe-e03f-8037f4c0b075"
      },
      "execution_count": 304,
      "outputs": [
        {
          "output_type": "stream",
          "name": "stdout",
          "text": [
            "age           int64\n",
            "sex           int64\n",
            "cp            int64\n",
            "trestbps      int64\n",
            "chol          int64\n",
            "fbs           int64\n",
            "restecg       int64\n",
            "thalach       int64\n",
            "exang         int64\n",
            "oldpeak     float64\n",
            "slope         int64\n",
            "ca            int64\n",
            "thal          int64\n",
            "target        int64\n",
            "dtype: object\n",
            "              age         sex          cp    trestbps        chol         fbs  \\\n",
            "count  303.000000  303.000000  303.000000  303.000000  303.000000  303.000000   \n",
            "mean    54.366337    0.683168    0.966997  131.623762  246.264026    0.148515   \n",
            "std      9.082101    0.466011    1.032052   17.538143   51.830751    0.356198   \n",
            "min     29.000000    0.000000    0.000000   94.000000  126.000000    0.000000   \n",
            "25%     47.500000    0.000000    0.000000  120.000000  211.000000    0.000000   \n",
            "50%     55.000000    1.000000    1.000000  130.000000  240.000000    0.000000   \n",
            "75%     61.000000    1.000000    2.000000  140.000000  274.500000    0.000000   \n",
            "max     77.000000    1.000000    3.000000  200.000000  564.000000    1.000000   \n",
            "\n",
            "          restecg     thalach       exang     oldpeak       slope          ca  \\\n",
            "count  303.000000  303.000000  303.000000  303.000000  303.000000  303.000000   \n",
            "mean     0.528053  149.646865    0.326733    1.039604    1.399340    0.729373   \n",
            "std      0.525860   22.905161    0.469794    1.161075    0.616226    1.022606   \n",
            "min      0.000000   71.000000    0.000000    0.000000    0.000000    0.000000   \n",
            "25%      0.000000  133.500000    0.000000    0.000000    1.000000    0.000000   \n",
            "50%      1.000000  153.000000    0.000000    0.800000    1.000000    0.000000   \n",
            "75%      1.000000  166.000000    1.000000    1.600000    2.000000    1.000000   \n",
            "max      2.000000  202.000000    1.000000    6.200000    2.000000    4.000000   \n",
            "\n",
            "             thal      target  \n",
            "count  303.000000  303.000000  \n",
            "mean     2.313531    0.544554  \n",
            "std      0.612277    0.498835  \n",
            "min      0.000000    0.000000  \n",
            "25%      2.000000    0.000000  \n",
            "50%      2.000000    1.000000  \n",
            "75%      3.000000    1.000000  \n",
            "max      3.000000    1.000000  \n"
          ]
        }
      ]
    },
    {
      "cell_type": "markdown",
      "source": [
        "\n",
        "<b>1. 2. Class Imbalance check</b><br>\n",
        "\n",
        "1.   From the visualization we can undersatand that the available data is balanced with almost equal number of data sets in positive result as well as negative result."
      ],
      "metadata": {
        "id": "aMZi3z_0dYRK"
      }
    },
    {
      "cell_type": "code",
      "source": [
        "# Code for plotting the positive result counts and negative result count for checking the class imbalance of the data set\n",
        "X_List = ['Positive_result','Negative_result']\n",
        "Total_rows = data_set['target'].count()\n",
        "Positive = data_set['target'].sum()\n",
        "Negative =  Total_rows - Positive\n",
        "Y_List = [Positive,Negative]\n",
        "Bar_graph = plt.bar(X_List,Y_List ,width = 0.4)\n",
        "Bar_graph[0].set_color('green')\n",
        "Bar_graph[1].set_color('red')\n",
        "plt.show()"
      ],
      "metadata": {
        "colab": {
          "base_uri": "https://localhost:8080/",
          "height": 430
        },
        "id": "R0rdfyLQjVsg",
        "outputId": "6c8ce3e8-d2c3-44b4-eb88-4f1b615a7dcc"
      },
      "execution_count": 305,
      "outputs": [
        {
          "output_type": "display_data",
          "data": {
            "text/plain": [
              "<Figure size 640x480 with 1 Axes>"
            ],
            "image/png": "[encoded data removed]"
          },
          "metadata": {}
        }
      ]
    },
    {
      "cell_type": "markdown",
      "source": [
        "<b>1. 3. Data Visualization</b>"
      ],
      "metadata": {
        "id": "MEyoETZsY1rG"
      }
    },
    {
      "cell_type": "code",
      "source": [
        "data_set['sex'].value_counts().plot(kind='bar')\n",
        "plt.show()"
      ],
      "metadata": {
        "colab": {
          "base_uri": "https://localhost:8080/",
          "height": 425
        },
        "id": "u5qNsGF_wKrS",
        "outputId": "04f168a3-c4f7-4616-8ee7-80a53e0865ca"
      },
      "execution_count": 306,
      "outputs": [
        {
          "output_type": "display_data",
          "data": {
            "text/plain": [
              "<Figure size 640x480 with 1 Axes>"
            ],
            "image/png": "[encoded data removed]"
          },
          "metadata": {}
        }
      ]
    },
    {
      "cell_type": "code",
      "source": [
        "data_set.plot(x=\"age\",y=\"target\",kind=\"scatter\")\n",
        "plt.show()"
      ],
      "metadata": {
        "colab": {
          "base_uri": "https://localhost:8080/",
          "height": 449
        },
        "id": "OXsIlimr4m--",
        "outputId": "1bad386f-edc1-44d1-d21b-7cfae124ee41"
      },
      "execution_count": 307,
      "outputs": [
        {
          "output_type": "display_data",
          "data": {
            "text/plain": [
              "<Figure size 640x480 with 1 Axes>"
            ],
            "image/png": "[encoded data removed]"
          },
          "metadata": {}
        }
      ]
    },
    {
      "cell_type": "code",
      "source": [
        "data_set.plot(x=\"age\",y=[\"chol\"],kind=\"scatter\")\n",
        "plt.show()"
      ],
      "metadata": {
        "id": "3DvzujJP5D-Q",
        "colab": {
          "base_uri": "https://localhost:8080/",
          "height": 449
        },
        "outputId": "860c6b9d-30cc-46fc-f498-5075e636331a"
      },
      "execution_count": 308,
      "outputs": [
        {
          "output_type": "display_data",
          "data": {
            "text/plain": [
              "<Figure size 640x480 with 1 Axes>"
            ],
            "image/png": "[encoded data removed]"
          },
          "metadata": {}
        }
      ]
    },
    {
      "cell_type": "code",
      "source": [
        "data_set.plot(x=\"chol\",y=[\"target\"],kind=\"scatter\")\n",
        "plt.show()"
      ],
      "metadata": {
        "colab": {
          "base_uri": "https://localhost:8080/",
          "height": 449
        },
        "id": "HirJ7HU3CdUb",
        "outputId": "5cad6ec8-9f93-4d22-c983-7c004d601c35"
      },
      "execution_count": 309,
      "outputs": [
        {
          "output_type": "display_data",
          "data": {
            "text/plain": [
              "<Figure size 640x480 with 1 Axes>"
            ],
            "image/png": "[encoded data removed]"
          },
          "metadata": {}
        }
      ]
    },
    {
      "cell_type": "markdown",
      "source": [
        "<b>1. 4. Correlational analysis </b>\n",
        "\n",
        "Correlational analysis affects the feature selection\n",
        "1.   Feature removing: Removing 'fbs' from the model as that particular feature has least influence on target\n",
        "2. Multicolinearity: No multicolinearity noted among any of the features\n",
        "\n",
        "Additionally, Features scaling: 'chol, 'age', 'trestbps' and 'thalach' features have high range of values (77, 200 etc) compared to other features\n"
      ],
      "metadata": {
        "id": "OIJtoeQsZfRU"
      }
    },
    {
      "cell_type": "code",
      "source": [
        "# Plotting heatmap to see find 1. If there is any multicollinearity, 2. If there are any features that have a very less influence on the target\n",
        "plt.figure(figsize= (20, 8))\n",
        "sns.heatmap(data_set.corr(), annot = True, cmap= 'crest')"
      ],
      "metadata": {
        "colab": {
          "base_uri": "https://localhost:8080/",
          "height": 699
        },
        "id": "3WxmbeRobwdD",
        "outputId": "b0535996-dc46-48fe-c6e3-9205de0dae46"
      },
      "execution_count": 310,
      "outputs": [
        {
          "output_type": "execute_result",
          "data": {
            "text/plain": [
              "<Axes: >"
            ]
          },
          "metadata": {},
          "execution_count": 310
        },
        {
          "output_type": "display_data",
          "data": {
            "text/plain": [
              "<Figure size 2000x800 with 2 Axes>"
            ],
            "image/png": "[encoded data removed]"
          },
          "metadata": {}
        }
      ]
    },
    {
      "cell_type": "markdown",
      "source": [
        "### <b>Section - 2 : DATA PRE-PROCESSING AND CLEANING</b>"
      ],
      "metadata": {
        "id": "2Q368_86dA5E"
      }
    },
    {
      "cell_type": "markdown",
      "source": [
        "<b>2. 1. Description and Correctness of data in each column:</b><br><br>\n",
        "1) age: Range is between 29 and 77.\n",
        "<br>2) sex : data is binary 1- male and 0 - female\n",
        "<br>3) cp (Chest Pain): Range is 0 to 3\n",
        "<br>4) trestbps(rest Blood pressure) : Range is 94 to 200. 75% of the data is below 140 so there are some outliers.\n",
        "<br>5) chol (Cholestrol level) : range is 126 to 564. Some people are having very high cholestrol level but 75% of the people are below 280.\n",
        "<br>6) fbs (Fasting Blood sugar) : Data is coded to 1 if the fbs > 120 mg/dl and 0 if fbs < 120mg/dl.\n",
        "<br>7) restecg (rest electro cardigraph results) : 0,1,2 are data updated based on the severity . People with 2 in restecg are very minimal.\n",
        "<br>8) thalach (maximum heart rate acheived) : range is 71 to 202 . 50% of the people have recored above 153.\n",
        "<br>9) exang (exercise induced angina) : 1 - caused by exercise 0 -Not caused by exercise\n",
        "<br>10) oldpeak (ST depression induced by exercise relative to rest) : Range 0 to 6.2\n",
        "<br>11) slope (the peak exercise ST segment): Range is 0 to 2\n",
        "<br>12) ca (number of major vessels (0-4) colored by flourosopy) : 75% data is below 1.\n",
        "<br>13) thal (0 = normal; 1 = fixed defect; 2 = reversable defect) : Most of the data is 2 - reversable defect. 3 is not defined but present in data set.\n",
        "<br>14) target ( 0= less chance of heart attack 1= more chance of heart attack) : Range 0 to 1. All datas are within the range.\n",
        "\n",
        "\n",
        "\n",
        "\n",
        "\n"
      ],
      "metadata": {
        "id": "3mGYgIWBjV6p"
      }
    },
    {
      "cell_type": "markdown",
      "source": [
        "<b>2. 1. The data set is complete and it doesnt have any NULL values </b>"
      ],
      "metadata": {
        "id": "v1sNwTrlgqKJ"
      }
    },
    {
      "cell_type": "code",
      "execution_count": 311,
      "metadata": {
        "colab": {
          "base_uri": "https://localhost:8080/"
        },
        "id": "kud4B7p1boTG",
        "outputId": "20bd5cdd-776c-469b-e3c6-5606899b26a4"
      },
      "outputs": [
        {
          "output_type": "stream",
          "name": "stdout",
          "text": [
            "age         0\n",
            "sex         0\n",
            "cp          0\n",
            "trestbps    0\n",
            "chol        0\n",
            "fbs         0\n",
            "restecg     0\n",
            "thalach     0\n",
            "exang       0\n",
            "oldpeak     0\n",
            "slope       0\n",
            "ca          0\n",
            "thal        0\n",
            "target      0\n",
            "dtype: int64\n"
          ]
        }
      ],
      "source": [
        "# Command for checking if there is any NULL values in the data set\n",
        "print(data_set.isnull().sum())"
      ]
    },
    {
      "cell_type": "markdown",
      "source": [
        "<b>2. 1. Finding and removing duplicates in the Data<b>"
      ],
      "metadata": {
        "id": "9yFceMQXbzgt"
      }
    },
    {
      "cell_type": "code",
      "source": [
        "# Selecting duplicate rows except first\n",
        "# occurrence based on all columns\n",
        "duplicate = data_set[data_set.duplicated()]\n",
        "data_set=data_set.drop_duplicates()\n",
        "\n",
        "# Checking to see how many duplicates have been removed\n",
        "# 1 duplicate entry has been removed (303 to 302 rows)\n",
        "print(data_set.describe())"
      ],
      "metadata": {
        "colab": {
          "base_uri": "https://localhost:8080/"
        },
        "id": "xn1gnkG-bkwa",
        "outputId": "696cf3e4-5dbd-4bd2-fc06-4dd1bd48d085"
      },
      "execution_count": 312,
      "outputs": [
        {
          "output_type": "stream",
          "name": "stdout",
          "text": [
            "             age         sex          cp    trestbps        chol         fbs  \\\n",
            "count  302.00000  302.000000  302.000000  302.000000  302.000000  302.000000   \n",
            "mean    54.42053    0.682119    0.963576  131.602649  246.500000    0.149007   \n",
            "std      9.04797    0.466426    1.032044   17.563394   51.753489    0.356686   \n",
            "min     29.00000    0.000000    0.000000   94.000000  126.000000    0.000000   \n",
            "25%     48.00000    0.000000    0.000000  120.000000  211.000000    0.000000   \n",
            "50%     55.50000    1.000000    1.000000  130.000000  240.500000    0.000000   \n",
            "75%     61.00000    1.000000    2.000000  140.000000  274.750000    0.000000   \n",
            "max     77.00000    1.000000    3.000000  200.000000  564.000000    1.000000   \n",
            "\n",
            "          restecg     thalach       exang     oldpeak       slope          ca  \\\n",
            "count  302.000000  302.000000  302.000000  302.000000  302.000000  302.000000   \n",
            "mean     0.526490  149.569536    0.327815    1.043046    1.397351    0.718543   \n",
            "std      0.526027   22.903527    0.470196    1.161452    0.616274    1.006748   \n",
            "min      0.000000   71.000000    0.000000    0.000000    0.000000    0.000000   \n",
            "25%      0.000000  133.250000    0.000000    0.000000    1.000000    0.000000   \n",
            "50%      1.000000  152.500000    0.000000    0.800000    1.000000    0.000000   \n",
            "75%      1.000000  166.000000    1.000000    1.600000    2.000000    1.000000   \n",
            "max      2.000000  202.000000    1.000000    6.200000    2.000000    4.000000   \n",
            "\n",
            "             thal      target  \n",
            "count  302.000000  302.000000  \n",
            "mean     2.314570    0.543046  \n",
            "std      0.613026    0.498970  \n",
            "min      0.000000    0.000000  \n",
            "25%      2.000000    0.000000  \n",
            "50%      2.000000    1.000000  \n",
            "75%      3.000000    1.000000  \n",
            "max      3.000000    1.000000  \n"
          ]
        }
      ]
    },
    {
      "cell_type": "markdown",
      "source": [
        "<b>2. 2. Feature Engineering: Features Scaling</b>\n"
      ],
      "metadata": {
        "id": "-89Y5d-PZXtl"
      }
    },
    {
      "cell_type": "code",
      "source": [
        "# Features scaling: 'chol, 'age', 'trestbps' and 'thalach' features have high range of values (77, 200 etc) compared to other features\n",
        "# Hence taking log value for these features to have a similar scale across features\n",
        "pd.options.mode.chained_assignment = None\n",
        "data_set['log_trestbps'] = nm.log(data_set['trestbps'])\n",
        "data_set['log_thalach'] = nm.log(data_set['thalach'])\n",
        "data_set['log_age'] = nm.log(data_set['age'])\n",
        "data_set['log_chol'] = nm.log(data_set['chol'])\n",
        "\n",
        "data_set.head()"
      ],
      "metadata": {
        "id": "tNf_m1XaFDe0",
        "colab": {
          "base_uri": "https://localhost:8080/",
          "height": 206
        },
        "outputId": "e699c203-de10-4959-921e-39142e394c0b"
      },
      "execution_count": 313,
      "outputs": [
        {
          "output_type": "execute_result",
          "data": {
            "text/plain": [
              "   age  sex  cp  trestbps  chol  fbs  restecg  thalach  exang  oldpeak  slope  \\\n",
              "0   63    1   3       145   233    1        0      150      0      2.3      0   \n",
              "1   37    1   2       130   250    0        1      187      0      3.5      0   \n",
              "2   41    0   1       130   204    0        0      172      0      1.4      2   \n",
              "3   56    1   1       120   236    0        1      178      0      0.8      2   \n",
              "4   57    0   0       120   354    0        1      163      1      0.6      2   \n",
              "\n",
              "   ca  thal  target  log_trestbps  log_thalach   log_age  log_chol  \n",
              "0   0     1       1      4.976734     5.010635  4.143135  5.451038  \n",
              "1   0     2       1      4.867534     5.231109  3.610918  5.521461  \n",
              "2   0     2       1      4.867534     5.147494  3.713572  5.318120  \n",
              "3   0     2       1      4.787492     5.181784  4.025352  5.463832  \n",
              "4   0     2       1      4.787492     5.093750  4.043051  5.869297  "
            ],
            "text/html": [
              "\n",
              "  <div id=\"df-f9ad9395-1519-440b-a469-95abc9f3e98a\">\n",
              "    <div class=\"colab-df-container\">\n",
              "      <div>\n",
              "<style scoped>\n",
              "    .dataframe tbody tr th:only-of-type {\n",
              "        vertical-align: middle;\n",
              "    }\n",
              "\n",
              "    .dataframe tbody tr th {\n",
              "        vertical-align: top;\n",
              "    }\n",
              "\n",
              "    .dataframe thead th {\n",
              "        text-align: right;\n",
              "    }\n",
              "</style>\n",
              "<table border=\"1\" class=\"dataframe\">\n",
              "  <thead>\n",
              "    <tr style=\"text-align: right;\">\n",
              "      <th></th>\n",
              "      <th>age</th>\n",
              "      <th>sex</th>\n",
              "      <th>cp</th>\n",
              "      <th>trestbps</th>\n",
              "      <th>chol</th>\n",
              "      <th>fbs</th>\n",
              "      <th>restecg</th>\n",
              "      <th>thalach</th>\n",
              "      <th>exang</th>\n",
              "      <th>oldpeak</th>\n",
              "      <th>slope</th>\n",
              "      <th>ca</th>\n",
              "      <th>thal</th>\n",
              "      <th>target</th>\n",
              "      <th>log_trestbps</th>\n",
              "      <th>log_thalach</th>\n",
              "      <th>log_age</th>\n",
              "      <th>log_chol</th>\n",
              "    </tr>\n",
              "  </thead>\n",
              "  <tbody>\n",
              "    <tr>\n",
              "      <th>0</th>\n",
              "      <td>63</td>\n",
              "      <td>1</td>\n",
              "      <td>3</td>\n",
              "      <td>145</td>\n",
              "      <td>233</td>\n",
              "      <td>1</td>\n",
              "      <td>0</td>\n",
              "      <td>150</td>\n",
              "      <td>0</td>\n",
              "      <td>2.3</td>\n",
              "      <td>0</td>\n",
              "      <td>0</td>\n",
              "      <td>1</td>\n",
              "      <td>1</td>\n",
              "      <td>4.976734</td>\n",
              "      <td>5.010635</td>\n",
              "      <td>4.143135</td>\n",
              "      <td>5.451038</td>\n",
              "    </tr>\n",
              "    <tr>\n",
              "      <th>1</th>\n",
              "      <td>37</td>\n",
              "      <td>1</td>\n",
              "      <td>2</td>\n",
              "      <td>130</td>\n",
              "      <td>250</td>\n",
              "      <td>0</td>\n",
              "      <td>1</td>\n",
              "      <td>187</td>\n",
              "      <td>0</td>\n",
              "      <td>3.5</td>\n",
              "      <td>0</td>\n",
              "      <td>0</td>\n",
              "      <td>2</td>\n",
              "      <td>1</td>\n",
              "      <td>4.867534</td>\n",
              "      <td>5.231109</td>\n",
              "      <td>3.610918</td>\n",
              "      <td>5.521461</td>\n",
              "    </tr>\n",
              "    <tr>\n",
              "      <th>2</th>\n",
              "      <td>41</td>\n",
              "      <td>0</td>\n",
              "      <td>1</td>\n",
              "      <td>130</td>\n",
              "      <td>204</td>\n",
              "      <td>0</td>\n",
              "      <td>0</td>\n",
              "      <td>172</td>\n",
              "      <td>0</td>\n",
              "      <td>1.4</td>\n",
              "      <td>2</td>\n",
              "      <td>0</td>\n",
              "      <td>2</td>\n",
              "      <td>1</td>\n",
              "      <td>4.867534</td>\n",
              "      <td>5.147494</td>\n",
              "      <td>3.713572</td>\n",
              "      <td>5.318120</td>\n",
              "    </tr>\n",
              "    <tr>\n",
              "      <th>3</th>\n",
              "      <td>56</td>\n",
              "      <td>1</td>\n",
              "      <td>1</td>\n",
              "      <td>120</td>\n",
              "      <td>236</td>\n",
              "      <td>0</td>\n",
              "      <td>1</td>\n",
              "      <td>178</td>\n",
              "      <td>0</td>\n",
              "      <td>0.8</td>\n",
              "      <td>2</td>\n",
              "      <td>0</td>\n",
              "      <td>2</td>\n",
              "      <td>1</td>\n",
              "      <td>4.787492</td>\n",
              "      <td>5.181784</td>\n",
              "      <td>4.025352</td>\n",
              "      <td>5.463832</td>\n",
              "    </tr>\n",
              "    <tr>\n",
              "      <th>4</th>\n",
              "      <td>57</td>\n",
              "      <td>0</td>\n",
              "      <td>0</td>\n",
              "      <td>120</td>\n",
              "      <td>354</td>\n",
              "      <td>0</td>\n",
              "      <td>1</td>\n",
              "      <td>163</td>\n",
              "      <td>1</td>\n",
              "      <td>0.6</td>\n",
              "      <td>2</td>\n",
              "      <td>0</td>\n",
              "      <td>2</td>\n",
              "      <td>1</td>\n",
              "      <td>4.787492</td>\n",
              "      <td>5.093750</td>\n",
              "      <td>4.043051</td>\n",
              "      <td>5.869297</td>\n",
              "    </tr>\n",
              "  </tbody>\n",
              "</table>\n",
              "</div>\n",
              "      <button class=\"colab-df-convert\" onclick=\"convertToInteractive('df-f9ad9395-1519-440b-a469-95abc9f3e98a')\"\n",
              "              title=\"Convert this dataframe to an interactive table.\"\n",
              "              style=\"display:none;\">\n",
              "        \n",
              "  <svg xmlns=\"http://www.w3.org/2000/svg\" height=\"24px\"viewBox=\"0 0 24 24\"\n",
              "       width=\"24px\">\n",
              "    <path d=\"M0 0h24v24H0V0z\" fill=\"none\"/>\n",
              "    <path d=\"M18.56 5.44l.94 2.06.94-2.06 2.06-.94-2.06-.94-.94-2.06-.94 2.06-2.06.94zm-11 1L8.5 8.5l.94-2.06 2.06-.94-2.06-.94L8.5 2.5l-.94 2.06-2.06.94zm10 10l.94 2.06.94-2.06 2.06-.94-2.06-.94-.94-2.06-.94 2.06-2.06.94z\"/><path d=\"M17.41 7.96l-1.37-1.37c-.4-.4-.92-.59-1.43-.59-.52 0-1.04.2-1.43.59L10.3 9.45l-7.72 7.72c-.78.78-.78 2.05 0 2.83L4 21.41c.39.39.9.59 1.41.59.51 0 1.02-.2 1.41-.59l7.78-7.78 2.81-2.81c.8-.78.8-2.07 0-2.86zM5.41 20L4 18.59l7.72-7.72 1.47 1.35L5.41 20z\"/>\n",
              "  </svg>\n",
              "      </button>\n",
              "      \n",
              "  <style>\n",
              "    .colab-df-container {\n",
              "      display:flex;\n",
              "      flex-wrap:wrap;\n",
              "      gap: 12px;\n",
              "    }\n",
              "\n",
              "    .colab-df-convert {\n",
              "      background-color: #E8F0FE;\n",
              "      border: none;\n",
              "      border-radius: 50%;\n",
              "      cursor: pointer;\n",
              "      display: none;\n",
              "      fill: #1967D2;\n",
              "      height: 32px;\n",
              "      padding: 0 0 0 0;\n",
              "      width: 32px;\n",
              "    }\n",
              "\n",
              "    .colab-df-convert:hover {\n",
              "      background-color: #E2EBFA;\n",
              "      box-shadow: 0px 1px 2px rgba(60, 64, 67, 0.3), 0px 1px 3px 1px rgba(60, 64, 67, 0.15);\n",
              "      fill: #174EA6;\n",
              "    }\n",
              "\n",
              "    [theme=dark] .colab-df-convert {\n",
              "      background-color: #3B4455;\n",
              "      fill: #D2E3FC;\n",
              "    }\n",
              "\n",
              "    [theme=dark] .colab-df-convert:hover {\n",
              "      background-color: #434B5C;\n",
              "      box-shadow: 0px 1px 3px 1px rgba(0, 0, 0, 0.15);\n",
              "      filter: drop-shadow(0px 1px 2px rgba(0, 0, 0, 0.3));\n",
              "      fill: #FFFFFF;\n",
              "    }\n",
              "  </style>\n",
              "\n",
              "      <script>\n",
              "        const buttonEl =\n",
              "          document.querySelector('#df-f9ad9395-1519-440b-a469-95abc9f3e98a button.colab-df-convert');\n",
              "        buttonEl.style.display =\n",
              "          google.colab.kernel.accessAllowed ? 'block' : 'none';\n",
              "\n",
              "        async function convertToInteractive(key) {\n",
              "          const element = document.querySelector('#df-f9ad9395-1519-440b-a469-95abc9f3e98a');\n",
              "          const dataTable =\n",
              "            await google.colab.kernel.invokeFunction('convertToInteractive',\n",
              "                                                     [key], {});\n",
              "          if (!dataTable) return;\n",
              "\n",
              "          const docLinkHtml = 'Like what you see? Visit the ' +\n",
              "            '<a target=\"_blank\" href=https://colab.research.google.com/notebooks/data_table.ipynb>data table notebook</a>'\n",
              "            + ' to learn more about interactive tables.';\n",
              "          element.innerHTML = '';\n",
              "          dataTable['output_type'] = 'display_data';\n",
              "          await google.colab.output.renderOutput(dataTable, element);\n",
              "          const docLink = document.createElement('div');\n",
              "          docLink.innerHTML = docLinkHtml;\n",
              "          element.appendChild(docLink);\n",
              "        }\n",
              "      </script>\n",
              "    </div>\n",
              "  </div>\n",
              "  "
            ]
          },
          "metadata": {},
          "execution_count": 313
        }
      ]
    },
    {
      "cell_type": "markdown",
      "source": [
        "<b>2. 2. Feature Engineering: Features reduction</b> <br>\n",
        "While assigning features and target columns for the model"
      ],
      "metadata": {
        "id": "995k0d2YwVQO"
      }
    },
    {
      "cell_type": "code",
      "source": [
        "# Assigning columns to X\n",
        "# Removing the original columns 'chol, 'age', 'trestbps' and 'thalach' and using log value columns\n",
        "\n",
        "# Additionally REMOVING 'fbs' as that particular feature has least influence on target\n",
        "X = data_set.loc[:,~data_set.columns.isin(['target', 'chol','fbs', 'trestbps','thalach','age'])]\n",
        "\n",
        "# Y - Target column. 'target' from data_set column\n",
        "Y = data_set['target']\n",
        "\n",
        "X.head()"
      ],
      "metadata": {
        "id": "FF2E5UGGuKNz",
        "colab": {
          "base_uri": "https://localhost:8080/",
          "height": 206
        },
        "outputId": "8c41acc0-7869-43cb-fd12-1890820a119d"
      },
      "execution_count": 314,
      "outputs": [
        {
          "output_type": "execute_result",
          "data": {
            "text/plain": [
              "   sex  cp  restecg  exang  oldpeak  slope  ca  thal  log_trestbps  \\\n",
              "0    1   3        0      0      2.3      0   0     1      4.976734   \n",
              "1    1   2        1      0      3.5      0   0     2      4.867534   \n",
              "2    0   1        0      0      1.4      2   0     2      4.867534   \n",
              "3    1   1        1      0      0.8      2   0     2      4.787492   \n",
              "4    0   0        1      1      0.6      2   0     2      4.787492   \n",
              "\n",
              "   log_thalach   log_age  log_chol  \n",
              "0     5.010635  4.143135  5.451038  \n",
              "1     5.231109  3.610918  5.521461  \n",
              "2     5.147494  3.713572  5.318120  \n",
              "3     5.181784  4.025352  5.463832  \n",
              "4     5.093750  4.043051  5.869297  "
            ],
            "text/html": [
              "\n",
              "  <div id=\"df-a57a258a-bde9-486c-80c9-1b9ff24b203a\">\n",
              "    <div class=\"colab-df-container\">\n",
              "      <div>\n",
              "<style scoped>\n",
              "    .dataframe tbody tr th:only-of-type {\n",
              "        vertical-align: middle;\n",
              "    }\n",
              "\n",
              "    .dataframe tbody tr th {\n",
              "        vertical-align: top;\n",
              "    }\n",
              "\n",
              "    .dataframe thead th {\n",
              "        text-align: right;\n",
              "    }\n",
              "</style>\n",
              "<table border=\"1\" class=\"dataframe\">\n",
              "  <thead>\n",
              "    <tr style=\"text-align: right;\">\n",
              "      <th></th>\n",
              "      <th>sex</th>\n",
              "      <th>cp</th>\n",
              "      <th>restecg</th>\n",
              "      <th>exang</th>\n",
              "      <th>oldpeak</th>\n",
              "      <th>slope</th>\n",
              "      <th>ca</th>\n",
              "      <th>thal</th>\n",
              "      <th>log_trestbps</th>\n",
              "      <th>log_thalach</th>\n",
              "      <th>log_age</th>\n",
              "      <th>log_chol</th>\n",
              "    </tr>\n",
              "  </thead>\n",
              "  <tbody>\n",
              "    <tr>\n",
              "      <th>0</th>\n",
              "      <td>1</td>\n",
              "      <td>3</td>\n",
              "      <td>0</td>\n",
              "      <td>0</td>\n",
              "      <td>2.3</td>\n",
              "      <td>0</td>\n",
              "      <td>0</td>\n",
              "      <td>1</td>\n",
              "      <td>4.976734</td>\n",
              "      <td>5.010635</td>\n",
              "      <td>4.143135</td>\n",
              "      <td>5.451038</td>\n",
              "    </tr>\n",
              "    <tr>\n",
              "      <th>1</th>\n",
              "      <td>1</td>\n",
              "      <td>2</td>\n",
              "      <td>1</td>\n",
              "      <td>0</td>\n",
              "      <td>3.5</td>\n",
              "      <td>0</td>\n",
              "      <td>0</td>\n",
              "      <td>2</td>\n",
              "      <td>4.867534</td>\n",
              "      <td>5.231109</td>\n",
              "      <td>3.610918</td>\n",
              "      <td>5.521461</td>\n",
              "    </tr>\n",
              "    <tr>\n",
              "      <th>2</th>\n",
              "      <td>0</td>\n",
              "      <td>1</td>\n",
              "      <td>0</td>\n",
              "      <td>0</td>\n",
              "      <td>1.4</td>\n",
              "      <td>2</td>\n",
              "      <td>0</td>\n",
              "      <td>2</td>\n",
              "      <td>4.867534</td>\n",
              "      <td>5.147494</td>\n",
              "      <td>3.713572</td>\n",
              "      <td>5.318120</td>\n",
              "    </tr>\n",
              "    <tr>\n",
              "      <th>3</th>\n",
              "      <td>1</td>\n",
              "      <td>1</td>\n",
              "      <td>1</td>\n",
              "      <td>0</td>\n",
              "      <td>0.8</td>\n",
              "      <td>2</td>\n",
              "      <td>0</td>\n",
              "      <td>2</td>\n",
              "      <td>4.787492</td>\n",
              "      <td>5.181784</td>\n",
              "      <td>4.025352</td>\n",
              "      <td>5.463832</td>\n",
              "    </tr>\n",
              "    <tr>\n",
              "      <th>4</th>\n",
              "      <td>0</td>\n",
              "      <td>0</td>\n",
              "      <td>1</td>\n",
              "      <td>1</td>\n",
              "      <td>0.6</td>\n",
              "      <td>2</td>\n",
              "      <td>0</td>\n",
              "      <td>2</td>\n",
              "      <td>4.787492</td>\n",
              "      <td>5.093750</td>\n",
              "      <td>4.043051</td>\n",
              "      <td>5.869297</td>\n",
              "    </tr>\n",
              "  </tbody>\n",
              "</table>\n",
              "</div>\n",
              "      <button class=\"colab-df-convert\" onclick=\"convertToInteractive('df-a57a258a-bde9-486c-80c9-1b9ff24b203a')\"\n",
              "              title=\"Convert this dataframe to an interactive table.\"\n",
              "              style=\"display:none;\">\n",
              "        \n",
              "  <svg xmlns=\"http://www.w3.org/2000/svg\" height=\"24px\"viewBox=\"0 0 24 24\"\n",
              "       width=\"24px\">\n",
              "    <path d=\"M0 0h24v24H0V0z\" fill=\"none\"/>\n",
              "    <path d=\"M18.56 5.44l.94 2.06.94-2.06 2.06-.94-2.06-.94-.94-2.06-.94 2.06-2.06.94zm-11 1L8.5 8.5l.94-2.06 2.06-.94-2.06-.94L8.5 2.5l-.94 2.06-2.06.94zm10 10l.94 2.06.94-2.06 2.06-.94-2.06-.94-.94-2.06-.94 2.06-2.06.94z\"/><path d=\"M17.41 7.96l-1.37-1.37c-.4-.4-.92-.59-1.43-.59-.52 0-1.04.2-1.43.59L10.3 9.45l-7.72 7.72c-.78.78-.78 2.05 0 2.83L4 21.41c.39.39.9.59 1.41.59.51 0 1.02-.2 1.41-.59l7.78-7.78 2.81-2.81c.8-.78.8-2.07 0-2.86zM5.41 20L4 18.59l7.72-7.72 1.47 1.35L5.41 20z\"/>\n",
              "  </svg>\n",
              "      </button>\n",
              "      \n",
              "  <style>\n",
              "    .colab-df-container {\n",
              "      display:flex;\n",
              "      flex-wrap:wrap;\n",
              "      gap: 12px;\n",
              "    }\n",
              "\n",
              "    .colab-df-convert {\n",
              "      background-color: #E8F0FE;\n",
              "      border: none;\n",
              "      border-radius: 50%;\n",
              "      cursor: pointer;\n",
              "      display: none;\n",
              "      fill: #1967D2;\n",
              "      height: 32px;\n",
              "      padding: 0 0 0 0;\n",
              "      width: 32px;\n",
              "    }\n",
              "\n",
              "    .colab-df-convert:hover {\n",
              "      background-color: #E2EBFA;\n",
              "      box-shadow: 0px 1px 2px rgba(60, 64, 67, 0.3), 0px 1px 3px 1px rgba(60, 64, 67, 0.15);\n",
              "      fill: #174EA6;\n",
              "    }\n",
              "\n",
              "    [theme=dark] .colab-df-convert {\n",
              "      background-color: #3B4455;\n",
              "      fill: #D2E3FC;\n",
              "    }\n",
              "\n",
              "    [theme=dark] .colab-df-convert:hover {\n",
              "      background-color: #434B5C;\n",
              "      box-shadow: 0px 1px 3px 1px rgba(0, 0, 0, 0.15);\n",
              "      filter: drop-shadow(0px 1px 2px rgba(0, 0, 0, 0.3));\n",
              "      fill: #FFFFFF;\n",
              "    }\n",
              "  </style>\n",
              "\n",
              "      <script>\n",
              "        const buttonEl =\n",
              "          document.querySelector('#df-a57a258a-bde9-486c-80c9-1b9ff24b203a button.colab-df-convert');\n",
              "        buttonEl.style.display =\n",
              "          google.colab.kernel.accessAllowed ? 'block' : 'none';\n",
              "\n",
              "        async function convertToInteractive(key) {\n",
              "          const element = document.querySelector('#df-a57a258a-bde9-486c-80c9-1b9ff24b203a');\n",
              "          const dataTable =\n",
              "            await google.colab.kernel.invokeFunction('convertToInteractive',\n",
              "                                                     [key], {});\n",
              "          if (!dataTable) return;\n",
              "\n",
              "          const docLinkHtml = 'Like what you see? Visit the ' +\n",
              "            '<a target=\"_blank\" href=https://colab.research.google.com/notebooks/data_table.ipynb>data table notebook</a>'\n",
              "            + ' to learn more about interactive tables.';\n",
              "          element.innerHTML = '';\n",
              "          dataTable['output_type'] = 'display_data';\n",
              "          await google.colab.output.renderOutput(dataTable, element);\n",
              "          const docLink = document.createElement('div');\n",
              "          docLink.innerHTML = docLinkHtml;\n",
              "          element.appendChild(docLink);\n",
              "        }\n",
              "      </script>\n",
              "    </div>\n",
              "  </div>\n",
              "  "
            ]
          },
          "metadata": {},
          "execution_count": 314
        }
      ]
    },
    {
      "cell_type": "markdown",
      "source": [
        "### <b>3. MODEL BUILDING - LOGISTIC REGRESSION</b>"
      ],
      "metadata": {
        "id": "U674FDGmnAu-"
      }
    },
    {
      "cell_type": "markdown",
      "source": [
        "<b>3. 1. Preparing Training and Test data set </b><br>\n",
        "\n",
        "Case 1 : Train = 80 % Test = 20% [ x_train1,y_train1] = 80% ; [ x_test1, y_test1] = 20% <br>\n",
        "Case 2 : Train = 10 % Test = 90% [ x_train2,y_train2] = 10% ; [ x_test2,y_test2] = 90% <br>\n",
        "\n",
        "<b>Case 1</b> Will be considered for building Training and Test data set.\n",
        "Reason:\n",
        " *   Training data set will be used to train and develop the model. Hence it should have high amount of data\n",
        "*   Also low amount of data in Training set might lead to a overfitting model\n",
        "*   High amount of data in Training set is necessary to build a more genaralized model\n",
        "\n",
        "\n"
      ],
      "metadata": {
        "id": "BDwyyc01nJ4N"
      }
    },
    {
      "cell_type": "code",
      "source": [
        "# 20% data assigned to Test data set and remaining 80% assigned to Training data set\n",
        "(X_train, X_test, Y_train, Y_test) = train_test_split(X,Y,test_size=.20)"
      ],
      "metadata": {
        "id": "rFhb5vKZwdta"
      },
      "execution_count": 315,
      "outputs": []
    },
    {
      "cell_type": "markdown",
      "source": [
        "<b>3. 2. Exploring K-fold cross validation </b><br>"
      ],
      "metadata": {
        "id": "KhSMeSYjwziA"
      }
    },
    {
      "cell_type": "code",
      "source": [
        "# Setting K - Number of splits\n",
        "kf = KFold(n_splits=5)\n",
        "kfold = kf.split(X_train, Y_train)\n",
        "scores = []\n",
        "\n",
        "logisticRegr_for_kfold = LogisticRegression(max_iter=1000,fit_intercept=False,solver='liblinear',C=.2)\n",
        "\n",
        "# Printing values: size of the fold and corresponding accuracy values\n",
        "for k, (train, test) in enumerate(kfold):\n",
        "    logisticRegr_for_kfold.fit(X_train.iloc[train, :], Y_train.iloc[train])\n",
        "    score = logisticRegr_for_kfold.score(X_train.iloc[test, :], Y_train.iloc[test])\n",
        "    scores.append(score)\n",
        "    print('Fold: ', k+1, 'Training/Test Split Distribution: ',nm.bincount(Y_train.iloc[train]) , 'Accuracy: ' , score)\n",
        "print('\\n Cross-Validation accuracy: ', nm.mean(scores), '+ or -', nm.std(scores))"
      ],
      "metadata": {
        "colab": {
          "base_uri": "https://localhost:8080/"
        },
        "id": "-_j6Yr_wzFkL",
        "outputId": "063aec05-c6b2-4cf4-f1e9-389043ae9405"
      },
      "execution_count": 316,
      "outputs": [
        {
          "output_type": "stream",
          "name": "stdout",
          "text": [
            "Fold:  1 Training/Test Split Distribution:  [ 83 109] Accuracy:  0.7142857142857143\n",
            "Fold:  2 Training/Test Split Distribution:  [ 88 105] Accuracy:  0.8958333333333334\n",
            "Fold:  3 Training/Test Split Distribution:  [ 88 105] Accuracy:  0.8541666666666666\n",
            "Fold:  4 Training/Test Split Distribution:  [ 92 101] Accuracy:  0.875\n",
            "Fold:  5 Training/Test Split Distribution:  [ 85 108] Accuracy:  0.8541666666666666\n",
            "\n",
            " Cross-Validation accuracy:  0.8386904761904763 + or - 0.06409252276141814\n"
          ]
        }
      ]
    },
    {
      "cell_type": "markdown",
      "source": [
        "<b> 3. 3. 1. Model Selection </b>"
      ],
      "metadata": {
        "id": "VfiCvcwbsNQQ"
      }
    },
    {
      "cell_type": "markdown",
      "source": [
        "1. Used GridSearchCV to find the best parameters for the model\n",
        "2. Used various values for Iterations, solver option, and C values\n",
        "3. 'class_weight' set as 'balanced', as we did not notice any class imbalance in the dataset\n",
        "4. This being a medical diagnosis model, gave highest prioirty to RECALL value while keeping the other values optimal\n",
        "\n",
        "<b>Other considerations for the model:</b>\n",
        "1. 'random_state' set to a value to avoid dynamic train and test datasets when we re-run the model\n",
        "2. 'cv' number of cross validation folds, set as 3 as we have only small amount of data\n",
        "3. 'scoring' values set to focus on 'recall' value as this is a medical diagnosis model\n",
        "4. 'refit' values set to focus on f1 value\n",
        "\n",
        "<b>Final considerations for the model:</b>\n",
        "1. GridsearchCV suggested solver 'newton-cg' seems to provide different recall values during every run. Hence, settled with 'liblinear'\n",
        "2. Increates max_iter to 200, instead of 50 suggested by GridsearchCV to have more iterations\n",
        "3. Took C and other values per GridsearchCV suggestion"
      ],
      "metadata": {
        "id": "KePbDcAkxskv"
      }
    },
    {
      "cell_type": "code",
      "source": [
        "param_grid_lr = {\n",
        "    'max_iter': [50, 100, 200, 500, 1000],\n",
        "    'solver': ['newton-cg', 'lbfgs', 'liblinear', 'sag','saga'],\n",
        "    'class_weight': ['balanced'],\n",
        "    'C':[0.2,0.3,0.5,0.6,0.8,1,2,3],\n",
        "    'fit_intercept':[False,True]\n",
        "}\n",
        "\n",
        "# random_state set to a value to avoid dynamic train and test datasets when we re-run the model\n",
        "# 'cv' number of cross validation folds, set as 3 as we have only small amount of data\n",
        "# 'scoring' values set to focus on 'recall' value as this is a medical diagnosis model\n",
        "# 'refit' values set to focus on f1 value\n",
        "logModel_grid = GridSearchCV(estimator=LogisticRegression(random_state=1234), param_grid=param_grid_lr, verbose=1, cv=3, n_jobs=-1,scoring = 'recall', refit='f1')\n",
        "logModel_grid.fit(X_train, Y_train)\n",
        "print(logModel_grid.best_estimator_)\n",
        "\n",
        "results = pd.DataFrame(logModel_grid.cv_results_)\n",
        "results = results.sort_values(by='rank_test_score', ascending=True)\n",
        "results.iloc[:1]"
      ],
      "metadata": {
        "colab": {
          "base_uri": "https://localhost:8080/",
          "height": 249
        },
        "id": "eUHEQBGMSzES",
        "outputId": "1f3216c0-f991-4032-b36e-bd17aefffdcd"
      },
      "execution_count": 317,
      "outputs": [
        {
          "output_type": "stream",
          "name": "stdout",
          "text": [
            "Fitting 3 folds for each of 400 candidates, totalling 1200 fits\n",
            "LogisticRegression(C=0.2, class_weight='balanced', max_iter=50,\n",
            "                   random_state=1234, solver='newton-cg')\n"
          ]
        },
        {
          "output_type": "execute_result",
          "data": {
            "text/plain": [
              "     mean_fit_time  std_fit_time  mean_score_time  std_score_time param_C  \\\n",
              "126       0.034557      0.005172         0.010556        0.003038     0.5   \n",
              "\n",
              "    param_class_weight param_fit_intercept param_max_iter param_solver  \\\n",
              "126           balanced                True             50        lbfgs   \n",
              "\n",
              "                                                params  split0_test_score  \\\n",
              "126  {'C': 0.5, 'class_weight': 'balanced', 'fit_in...           0.909091   \n",
              "\n",
              "     split1_test_score  split2_test_score  mean_test_score  std_test_score  \\\n",
              "126           0.863636           0.840909         0.871212        0.028346   \n",
              "\n",
              "     rank_test_score  \n",
              "126                1  "
            ],
            "text/html": [
              "\n",
              "  <div id=\"df-4fb0ceaf-9e0b-4c35-96c8-d54101d56731\">\n",
              "    <div class=\"colab-df-container\">\n",
              "      <div>\n",
              "<style scoped>\n",
              "    .dataframe tbody tr th:only-of-type {\n",
              "        vertical-align: middle;\n",
              "    }\n",
              "\n",
              "    .dataframe tbody tr th {\n",
              "        vertical-align: top;\n",
              "    }\n",
              "\n",
              "    .dataframe thead th {\n",
              "        text-align: right;\n",
              "    }\n",
              "</style>\n",
              "<table border=\"1\" class=\"dataframe\">\n",
              "  <thead>\n",
              "    <tr style=\"text-align: right;\">\n",
              "      <th></th>\n",
              "      <th>mean_fit_time</th>\n",
              "      <th>std_fit_time</th>\n",
              "      <th>mean_score_time</th>\n",
              "      <th>std_score_time</th>\n",
              "      <th>param_C</th>\n",
              "      <th>param_class_weight</th>\n",
              "      <th>param_fit_intercept</th>\n",
              "      <th>param_max_iter</th>\n",
              "      <th>param_solver</th>\n",
              "      <th>params</th>\n",
              "      <th>split0_test_score</th>\n",
              "      <th>split1_test_score</th>\n",
              "      <th>split2_test_score</th>\n",
              "      <th>mean_test_score</th>\n",
              "      <th>std_test_score</th>\n",
              "      <th>rank_test_score</th>\n",
              "    </tr>\n",
              "  </thead>\n",
              "  <tbody>\n",
              "    <tr>\n",
              "      <th>126</th>\n",
              "      <td>0.034557</td>\n",
              "      <td>0.005172</td>\n",
              "      <td>0.010556</td>\n",
              "      <td>0.003038</td>\n",
              "      <td>0.5</td>\n",
              "      <td>balanced</td>\n",
              "      <td>True</td>\n",
              "      <td>50</td>\n",
              "      <td>lbfgs</td>\n",
              "      <td>{'C': 0.5, 'class_weight': 'balanced', 'fit_in...</td>\n",
              "      <td>0.909091</td>\n",
              "      <td>0.863636</td>\n",
              "      <td>0.840909</td>\n",
              "      <td>0.871212</td>\n",
              "      <td>0.028346</td>\n",
              "      <td>1</td>\n",
              "    </tr>\n",
              "  </tbody>\n",
              "</table>\n",
              "</div>\n",
              "      <button class=\"colab-df-convert\" onclick=\"convertToInteractive('df-4fb0ceaf-9e0b-4c35-96c8-d54101d56731')\"\n",
              "              title=\"Convert this dataframe to an interactive table.\"\n",
              "              style=\"display:none;\">\n",
              "        \n",
              "  <svg xmlns=\"http://www.w3.org/2000/svg\" height=\"24px\"viewBox=\"0 0 24 24\"\n",
              "       width=\"24px\">\n",
              "    <path d=\"M0 0h24v24H0V0z\" fill=\"none\"/>\n",
              "    <path d=\"M18.56 5.44l.94 2.06.94-2.06 2.06-.94-2.06-.94-.94-2.06-.94 2.06-2.06.94zm-11 1L8.5 8.5l.94-2.06 2.06-.94-2.06-.94L8.5 2.5l-.94 2.06-2.06.94zm10 10l.94 2.06.94-2.06 2.06-.94-2.06-.94-.94-2.06-.94 2.06-2.06.94z\"/><path d=\"M17.41 7.96l-1.37-1.37c-.4-.4-.92-.59-1.43-.59-.52 0-1.04.2-1.43.59L10.3 9.45l-7.72 7.72c-.78.78-.78 2.05 0 2.83L4 21.41c.39.39.9.59 1.41.59.51 0 1.02-.2 1.41-.59l7.78-7.78 2.81-2.81c.8-.78.8-2.07 0-2.86zM5.41 20L4 18.59l7.72-7.72 1.47 1.35L5.41 20z\"/>\n",
              "  </svg>\n",
              "      </button>\n",
              "      \n",
              "  <style>\n",
              "    .colab-df-container {\n",
              "      display:flex;\n",
              "      flex-wrap:wrap;\n",
              "      gap: 12px;\n",
              "    }\n",
              "\n",
              "    .colab-df-convert {\n",
              "      background-color: #E8F0FE;\n",
              "      border: none;\n",
              "      border-radius: 50%;\n",
              "      cursor: pointer;\n",
              "      display: none;\n",
              "      fill: #1967D2;\n",
              "      height: 32px;\n",
              "      padding: 0 0 0 0;\n",
              "      width: 32px;\n",
              "    }\n",
              "\n",
              "    .colab-df-convert:hover {\n",
              "      background-color: #E2EBFA;\n",
              "      box-shadow: 0px 1px 2px rgba(60, 64, 67, 0.3), 0px 1px 3px 1px rgba(60, 64, 67, 0.15);\n",
              "      fill: #174EA6;\n",
              "    }\n",
              "\n",
              "    [theme=dark] .colab-df-convert {\n",
              "      background-color: #3B4455;\n",
              "      fill: #D2E3FC;\n",
              "    }\n",
              "\n",
              "    [theme=dark] .colab-df-convert:hover {\n",
              "      background-color: #434B5C;\n",
              "      box-shadow: 0px 1px 3px 1px rgba(0, 0, 0, 0.15);\n",
              "      filter: drop-shadow(0px 1px 2px rgba(0, 0, 0, 0.3));\n",
              "      fill: #FFFFFF;\n",
              "    }\n",
              "  </style>\n",
              "\n",
              "      <script>\n",
              "        const buttonEl =\n",
              "          document.querySelector('#df-4fb0ceaf-9e0b-4c35-96c8-d54101d56731 button.colab-df-convert');\n",
              "        buttonEl.style.display =\n",
              "          google.colab.kernel.accessAllowed ? 'block' : 'none';\n",
              "\n",
              "        async function convertToInteractive(key) {\n",
              "          const element = document.querySelector('#df-4fb0ceaf-9e0b-4c35-96c8-d54101d56731');\n",
              "          const dataTable =\n",
              "            await google.colab.kernel.invokeFunction('convertToInteractive',\n",
              "                                                     [key], {});\n",
              "          if (!dataTable) return;\n",
              "\n",
              "          const docLinkHtml = 'Like what you see? Visit the ' +\n",
              "            '<a target=\"_blank\" href=https://colab.research.google.com/notebooks/data_table.ipynb>data table notebook</a>'\n",
              "            + ' to learn more about interactive tables.';\n",
              "          element.innerHTML = '';\n",
              "          dataTable['output_type'] = 'display_data';\n",
              "          await google.colab.output.renderOutput(dataTable, element);\n",
              "          const docLink = document.createElement('div');\n",
              "          docLink.innerHTML = docLinkHtml;\n",
              "          element.appendChild(docLink);\n",
              "        }\n",
              "      </script>\n",
              "    </div>\n",
              "  </div>\n",
              "  "
            ]
          },
          "metadata": {},
          "execution_count": 317
        }
      ]
    },
    {
      "cell_type": "code",
      "source": [
        "# Logistic regression model - Used GridSearchCV, and also manually adjusted the parameters to design the final model\n",
        "\n",
        "# List of evaluated model parameters\n",
        "  # logisticRegr = LogisticRegression(max_iter=1000,fit_intercept=False,solver='liblinear',C=.2)\n",
        "  # logisticRegr = LogisticRegression(max_iter=1000,fit_intercept=False,solver='liblinear',C=.5)\n",
        "  # logisticRegr = LogisticRegression(max_iter=1000,fit_intercept=False,solver='saga',C=.2)\n",
        "  # logisticRegr = LogisticRegression(C=0.2, class_weight='balanced', max_iter=50, random_state=1234, solver='newton-cg')\n",
        "  # logisticRegr = LogisticRegression(C=0.2, class_weight='balanced', max_iter=50, random_state=1234, solver='liblinear')\n",
        "  # logisticRegr = LogisticRegression(C=3, class_weight='balanced', max_iter=50, random_state=1234, solver='liblinear')\n",
        "  # logisticRegr = LogisticRegression(C=0.2, class_weight='balanced', max_iter=50, random_state=1234, solver='newton-cg')\n",
        "  # logisticRegr = LogisticRegression(C=0.2, class_weight='balanced', max_iter=50, random_state=1234, solver='liblinear')\n",
        "\n",
        "\n",
        "# Fianlized model parameters\n",
        "logisticRegr = LogisticRegression(C=0.2, class_weight='balanced', fit_intercept=False, max_iter=200, random_state=1234, solver='liblinear')\n",
        "logisticRegr.fit(X_train, Y_train)"
      ],
      "metadata": {
        "id": "N2oQAe6S07av",
        "colab": {
          "base_uri": "https://localhost:8080/",
          "height": 93
        },
        "outputId": "eaf16a0c-1dec-4231-db5e-acbfab6df82f"
      },
      "execution_count": 318,
      "outputs": [
        {
          "output_type": "execute_result",
          "data": {
            "text/plain": [
              "LogisticRegression(C=0.2, class_weight='balanced', fit_intercept=False,\n",
              "                   max_iter=200, random_state=1234, solver='liblinear')"
            ],
            "text/html": [
              "<style>#sk-container-id-15 {color: black;background-color: white;}#sk-container-id-15 pre{padding: 0;}#sk-container-id-15 div.sk-toggleable {background-color: white;}#sk-container-id-15 label.sk-toggleable__label {cursor: pointer;display: block;width: 100%;margin-bottom: 0;padding: 0.3em;box-sizing: border-box;text-align: center;}#sk-container-id-15 label.sk-toggleable__label-arrow:before {content: \"▸\";float: left;margin-right: 0.25em;color: #696969;}#sk-container-id-15 label.sk-toggleable__label-arrow:hover:before {color: black;}#sk-container-id-15 div.sk-estimator:hover label.sk-toggleable__label-arrow:before {color: black;}#sk-container-id-15 div.sk-toggleable__content {max-height: 0;max-width: 0;overflow: hidden;text-align: left;background-color: #f0f8ff;}#sk-container-id-15 div.sk-toggleable__content pre {margin: 0.2em;color: black;border-radius: 0.25em;background-color: #f0f8ff;}#sk-container-id-15 input.sk-toggleable__control:checked~div.sk-toggleable__content {max-height: 200px;max-width: 100%;overflow: auto;}#sk-container-id-15 input.sk-toggleable__control:checked~label.sk-toggleable__label-arrow:before {content: \"▾\";}#sk-container-id-15 div.sk-estimator input.sk-toggleable__control:checked~label.sk-toggleable__label {background-color: #d4ebff;}#sk-container-id-15 div.sk-label input.sk-toggleable__control:checked~label.sk-toggleable__label {background-color: #d4ebff;}#sk-container-id-15 input.sk-hidden--visually {border: 0;clip: rect(1px 1px 1px 1px);clip: rect(1px, 1px, 1px, 1px);height: 1px;margin: -1px;overflow: hidden;padding: 0;position: absolute;width: 1px;}#sk-container-id-15 div.sk-estimator {font-family: monospace;background-color: #f0f8ff;border: 1px dotted black;border-radius: 0.25em;box-sizing: border-box;margin-bottom: 0.5em;}#sk-container-id-15 div.sk-estimator:hover {background-color: #d4ebff;}#sk-container-id-15 div.sk-parallel-item::after {content: \"\";width: 100%;border-bottom: 1px solid gray;flex-grow: 1;}#sk-container-id-15 div.sk-label:hover label.sk-toggleable__label {background-color: #d4ebff;}#sk-container-id-15 div.sk-serial::before {content: \"\";position: absolute;border-left: 1px solid gray;box-sizing: border-box;top: 0;bottom: 0;left: 50%;z-index: 0;}#sk-container-id-15 div.sk-serial {display: flex;flex-direction: column;align-items: center;background-color: white;padding-right: 0.2em;padding-left: 0.2em;position: relative;}#sk-container-id-15 div.sk-item {position: relative;z-index: 1;}#sk-container-id-15 div.sk-parallel {display: flex;align-items: stretch;justify-content: center;background-color: white;position: relative;}#sk-container-id-15 div.sk-item::before, #sk-container-id-15 div.sk-parallel-item::before {content: \"\";position: absolute;border-left: 1px solid gray;box-sizing: border-box;top: 0;bottom: 0;left: 50%;z-index: -1;}#sk-container-id-15 div.sk-parallel-item {display: flex;flex-direction: column;z-index: 1;position: relative;background-color: white;}#sk-container-id-15 div.sk-parallel-item:first-child::after {align-self: flex-end;width: 50%;}#sk-container-id-15 div.sk-parallel-item:last-child::after {align-self: flex-start;width: 50%;}#sk-container-id-15 div.sk-parallel-item:only-child::after {width: 0;}#sk-container-id-15 div.sk-dashed-wrapped {border: 1px dashed gray;margin: 0 0.4em 0.5em 0.4em;box-sizing: border-box;padding-bottom: 0.4em;background-color: white;}#sk-container-id-15 div.sk-label label {font-family: monospace;font-weight: bold;display: inline-block;line-height: 1.2em;}#sk-container-id-15 div.sk-label-container {text-align: center;}#sk-container-id-15 div.sk-container {/* jupyter's `normalize.less` sets `[hidden] { display: none; }` but bootstrap.min.css set `[hidden] { display: none !important; }` so we also need the `!important` here to be able to override the default hidden behavior on the sphinx rendered scikit-learn.org. See: https://github.com/scikit-learn/scikit-learn/issues/21755 */display: inline-block !important;position: relative;}#sk-container-id-15 div.sk-text-repr-fallback {display: none;}</style><div id=\"sk-container-id-15\" class=\"sk-top-container\"><div class=\"sk-text-repr-fallback\"><pre>LogisticRegression(C=0.2, class_weight=&#x27;balanced&#x27;, fit_intercept=False,\n",
              "                   max_iter=200, random_state=1234, solver=&#x27;liblinear&#x27;)</pre><b>In a Jupyter environment, please rerun this cell to show the HTML representation or trust the notebook. <br />On GitHub, the HTML representation is unable to render, please try loading this page with nbviewer.org.</b></div><div class=\"sk-container\" hidden><div class=\"sk-item\"><div class=\"sk-estimator sk-toggleable\"><input class=\"sk-toggleable__control sk-hidden--visually\" id=\"sk-estimator-id-15\" type=\"checkbox\" checked><label for=\"sk-estimator-id-15\" class=\"sk-toggleable__label sk-toggleable__label-arrow\">LogisticRegression</label><div class=\"sk-toggleable__content\"><pre>LogisticRegression(C=0.2, class_weight=&#x27;balanced&#x27;, fit_intercept=False,\n",
              "                   max_iter=200, random_state=1234, solver=&#x27;liblinear&#x27;)</pre></div></div></div></div></div>"
            ]
          },
          "metadata": {},
          "execution_count": 318
        }
      ]
    },
    {
      "cell_type": "markdown",
      "source": [
        "<b> 3. 3. 2. Performance Metrics </b>"
      ],
      "metadata": {
        "id": "SVWIduZ-xY_P"
      }
    },
    {
      "cell_type": "markdown",
      "source": [
        "<b> Confusion Matrix</b>\n",
        "\n",
        "1.   Per the dataset, we are trying to predict the presence of risk of heart disease.\n",
        "2. Hence, target value = 1 - presence of heart disease/attach risk is taken as TP - True Positive Value\n",
        "3. Also, we will give importance to Recall value. ie. We will build a model such that we have low number of False Negatives\n",
        "\n"
      ],
      "metadata": {
        "id": "6YQ3gy4eq30Q"
      }
    },
    {
      "cell_type": "code",
      "source": [
        "# Calculating Predicted values for all test data set\n",
        "# And displaying Confusion matrix\n",
        "predicted_values = logisticRegr.predict(X_test[:])\n",
        "acutal_values = Y_test.array\n",
        "\n",
        "cm = confusion_matrix(acutal_values, predicted_values, labels=logisticRegr.classes_)\n",
        "disp = ConfusionMatrixDisplay(confusion_matrix=cm,\n",
        "                              display_labels=logisticRegr.classes_)\n",
        "disp.plot()\n",
        "plt.show()"
      ],
      "metadata": {
        "id": "VdJgQ8V_1TPX",
        "colab": {
          "base_uri": "https://localhost:8080/",
          "height": 449
        },
        "outputId": "8b9f818f-e050-4975-e2cc-11a78fa6a169"
      },
      "execution_count": 319,
      "outputs": [
        {
          "output_type": "display_data",
          "data": {
            "text/plain": [
              "<Figure size 640x480 with 2 Axes>"
            ],
            "image/png": "[encoded data removed]"
          },
          "metadata": {}
        }
      ]
    },
    {
      "cell_type": "code",
      "source": [
        "# Calculations required for getting performance metrics\n",
        "\n",
        "total=sum(sum(cm))\n",
        "\n",
        "#####Calculating Accuracy from Confusion Matrix\n",
        "# (TP + TN) /(TP + FP + FN + TN)\n",
        "accuracy=(cm[0,0]+cm[1,1])/total\n",
        "\n",
        "#####Calculating Precision from Confusion Matrix\n",
        "# TP/(TP + FP)\n",
        "precision = cm[1,1]/(cm[1,1]+cm[0,1])\n",
        "\n",
        "\n",
        "#####Calculating Sensitivity from Confusion Matrix\n",
        "# TP/(TP + FN)\n",
        "sensitivity = cm[1,1]/(cm[1,1]+cm[1,0])\n",
        "\n",
        "\n",
        "#####Calculating Specificity from Confusion Matrix\n",
        "# TN/(TN + FP)\n",
        "specificity = cm[0,0]/(cm[0,0]+cm[0,1])\n",
        "\n",
        "\n",
        "# Calculate score by comparing the predict 'target' value Vs actual 'target' from the Test data\n",
        "f1_score = 2*((precision*sensitivity)/(precision+sensitivity))"
      ],
      "metadata": {
        "id": "_scO2N8Z1lqg"
      },
      "execution_count": 320,
      "outputs": []
    },
    {
      "cell_type": "markdown",
      "source": [
        "<b> Performance Metrics </b>"
      ],
      "metadata": {
        "id": "2-QAr-Fx5ylu"
      }
    },
    {
      "cell_type": "code",
      "source": [
        "# Performance metrics table\n",
        "Performance_Metrics = [\n",
        "    ['Accuracy ', accuracy],\n",
        "    ['F1 score', f1_score],\n",
        "    ['Sensitivity/Recall', sensitivity],\n",
        "    ['Precision', precision],\n",
        "    ['Specificity', specificity]\n",
        "]\n",
        "head = [\"Metrics\", \"Values\"]\n",
        "print(tabulate(Performance_Metrics, headers=head, tablefmt=\"grid\"))"
      ],
      "metadata": {
        "colab": {
          "base_uri": "https://localhost:8080/"
        },
        "id": "sqLPl23l5kt_",
        "outputId": "3f0d6858-cb7f-4766-dedc-92207ecb018c"
      },
      "execution_count": 321,
      "outputs": [
        {
          "output_type": "stream",
          "name": "stdout",
          "text": [
            "+--------------------+----------+\n",
            "| Metrics            |   Values |\n",
            "+====================+==========+\n",
            "| Accuracy           | 0.852459 |\n",
            "+--------------------+----------+\n",
            "| F1 score           | 0.861538 |\n",
            "+--------------------+----------+\n",
            "| Sensitivity/Recall | 0.875    |\n",
            "+--------------------+----------+\n",
            "| Precision          | 0.848485 |\n",
            "+--------------------+----------+\n",
            "| Specificity        | 0.827586 |\n",
            "+--------------------+----------+\n"
          ]
        }
      ]
    },
    {
      "cell_type": "markdown",
      "source": [
        "<b>Steps done to improve model and output</b> <br>\n",
        "<b>Feature scaling:</b>\n",
        "1. With all features included and in their original value range, the accuracy and f1 scores were around 0.78\n",
        "2. Feature Scaling: Then we noticed that 'chol, 'age', 'trestbps' and 'thalach' features have high range of values (77, 200 etc) compared to other features. Hence, we took log values of those features for the model instead of the acutal values. The score improved to the range of 0.85 to 0.89<br>\n",
        "\n",
        "<b>Feature Reduction:</b>\n",
        "1. From the correlation table we identified that 'fbs' has the least influence on the target. Hence, removed 'fbs' from the model's feature columns\n",
        "\n",
        "<b>Tuning the hyper parameters:</b>\n",
        "1.   Used GridSearchCV to find the best parameters for the model\n",
        "2.   Also did manual tuning to get optimal results\n",
        "2.   This being a medical diagnosis model, gave higher prioirty to RECALL value while keeping the other values optimal\n",
        "\n"
      ],
      "metadata": {
        "id": "W0yqvtfDON-q"
      }
    }
  ],
  "metadata": {
    "colab": {
      "provenance": [],
      "include_colab_link": true
    },
    "kernelspec": {
      "display_name": "Python 3",
      "name": "python3"
    },
    "language_info": {
      "name": "python"
    }
  },
  "nbformat": 4,
  "nbformat_minor": 0
}